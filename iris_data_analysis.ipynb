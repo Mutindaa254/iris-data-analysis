{
 "cells": [
  {
   "cell_type": "markdown",
   "id": "92926293",
   "metadata": {},
   "source": [
    "# Iris Dataset Analysis\n",
    "This notebook performs data loading, exploration, analysis, and visualization on the Iris dataset."
   ]
  },
  {
   "cell_type": "code",
   "execution_count": null,
   "id": "016f1bd7",
   "metadata": {},
   "outputs": [],
   "source": [
    "import pandas as pd\n",
    "import seaborn as sns\n",
    "import matplotlib.pyplot as plt\n",
    "from sklearn.datasets import load_iris\n",
    "\n",
    "# Load the Iris dataset\n",
    "iris = load_iris()\n",
    "df = pd.DataFrame(iris.data, columns=iris.feature_names)\n",
    "df['species'] = pd.Categorical.from_codes(iris.target, iris.target_names)\n",
    "df.head()"
   ]
  },
  {
   "cell_type": "code",
   "execution_count": null,
   "id": "81bd14e5",
   "metadata": {},
   "outputs": [],
   "source": [
    "# Data types and missing values\n",
    "df.info()\n",
    "df.isnull().sum()"
   ]
  },
  {
   "cell_type": "code",
   "execution_count": null,
   "id": "401bc32e",
   "metadata": {},
   "outputs": [],
   "source": [
    "# Basic statistics\n",
    "df.describe()"
   ]
  },
  {
   "cell_type": "code",
   "execution_count": null,
   "id": "8e9bf1d7",
   "metadata": {},
   "outputs": [],
   "source": [
    "# Mean of each numerical column grouped by species\n",
    "df.groupby('species').mean()"
   ]
  },
  {
   "cell_type": "markdown",
   "id": "29c8faae",
   "metadata": {},
   "source": [
    "## Data Visualization"
   ]
  },
  {
   "cell_type": "code",
   "execution_count": null,
   "id": "dba809ef",
   "metadata": {},
   "outputs": [],
   "source": [
    "# Line chart: Using the mean values over index as a placeholder for trend\n",
    "sns.lineplot(data=df.groupby('species').mean().T)\n",
    "plt.title('Mean Feature Values by Species')\n",
    "plt.ylabel('Mean Value')\n",
    "plt.xlabel('Features')\n",
    "plt.xticks(rotation=45)\n",
    "plt.legend(title='Species')\n",
    "plt.tight_layout()\n",
    "plt.show()"
   ]
  },
  {
   "cell_type": "code",
   "execution_count": null,
   "id": "c4f3b7cd",
   "metadata": {},
   "outputs": [],
   "source": [
    "# Bar chart: Average petal length per species\n",
    "sns.barplot(x='species', y='petal length (cm)', data=df)\n",
    "plt.title('Average Petal Length by Species')\n",
    "plt.ylabel('Petal Length (cm)')\n",
    "plt.xlabel('Species')\n",
    "plt.show()"
   ]
  },
  {
   "cell_type": "code",
   "execution_count": null,
   "id": "e3455ec4",
   "metadata": {},
   "outputs": [],
   "source": [
    "# Histogram: Sepal length distribution\n",
    "sns.histplot(df['sepal length (cm)'], bins=10, kde=True)\n",
    "plt.title('Distribution of Sepal Length')\n",
    "plt.xlabel('Sepal Length (cm)')\n",
    "plt.show()"
   ]
  },
  {
   "cell_type": "code",
   "execution_count": null,
   "id": "a715332b",
   "metadata": {},
   "outputs": [],
   "source": [
    "# Scatter plot: Sepal length vs Petal length\n",
    "sns.scatterplot(data=df, x='sepal length (cm)', y='petal length (cm)', hue='species')\n",
    "plt.title('Sepal Length vs Petal Length')\n",
    "plt.xlabel('Sepal Length (cm)')\n",
    "plt.ylabel('Petal Length (cm)')\n",
    "plt.show()"
   ]
  }
 ],
 "metadata": {},
 "nbformat": 4,
 "nbformat_minor": 5
}
